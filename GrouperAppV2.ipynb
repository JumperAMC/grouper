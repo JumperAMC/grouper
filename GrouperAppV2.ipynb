{
 "cells": [
  {
   "cell_type": "markdown",
   "metadata": {},
   "source": [
    "# GrouperAppV2 - Using Streamlit\n"
   ]
  },
  {
   "cell_type": "markdown",
   "metadata": {},
   "source": [
    "This notebook follows from GrouperAppV1 Notebook. In this version I have asked Chat GPT to rewrite that (originally) working code to get it into STreamlit. I was going to run on Azure but I do not have a way to pay for that so I will test on Stremlit for now!"
   ]
  },
  {
   "cell_type": "markdown",
   "metadata": {},
   "source": [
    "In this modified version, I've replaced the Tkinter-based UI with Streamlit components. The program now runs as a Streamlit app, allowing you to upload an Excel file, perform data analysis, generate teams, and save the results to an Excel file using Streamlit's interactive components and file handling features.\n",
    "\n",
    "To run this modified program:\n",
    "\n",
    "Install the required dependencies by running pip install numpy pandas streamlit.\n",
    "\n",
    "Save the code in a Python file (e.g., streamlit_app.py).\n",
    "\n",
    "Open a terminal or command prompt and navigate to the directory where the Python file is saved.\n",
    "\n",
    "Run the Streamlit app by executing the command \n"
   ]
  },
  {
   "cell_type": "raw",
   "metadata": {},
   "source": [
    "streamlit run streamlit_app.py."
   ]
  },
  {
   "cell_type": "markdown",
   "metadata": {},
   "source": [
    "Streamlit will provide a URL that you can open in a web browser to access the app.\n",
    "Please note that this modified program is a starting point, and you may need to customize it further to meet your specific requirements or add additional error handling and input validation as needed."
   ]
  },
  {
   "cell_type": "code",
   "execution_count": 1,
   "metadata": {},
   "outputs": [
    {
     "name": "stderr",
     "output_type": "stream",
     "text": [
      "2023-06-20 23:24:09.385 \n",
      "  \u001b[33m\u001b[1mWarning:\u001b[0m to view this Streamlit app on a browser, run it with the following\n",
      "  command:\n",
      "\n",
      "    streamlit run /Users/ac8793/opt/anaconda3/lib/python3.8/site-packages/ipykernel_launcher.py [ARGUMENTS]\n"
     ]
    }
   ],
   "source": [
    "import numpy as np\n",
    "import pandas as pd\n",
    "import streamlit as st\n",
    "\n",
    "def save_dataframe_to_excel(df, file_name):\n",
    "    try:\n",
    "        if not file_name.endswith('.xlsx'):\n",
    "            file_name += '.xlsx'\n",
    "        df.to_excel(file_name, index=True)\n",
    "        st.success(\"DataFrame saved to Excel file: \" + file_name)\n",
    "    except Exception as e:\n",
    "        st.error(\"An error occurred while saving the DataFrame: \" + str(e))\n",
    "\n",
    "def main():\n",
    "    st.title(\"Student Grouping App\")\n",
    "    \n",
    "    # Load the Excel file\n",
    "    file = st.file_uploader(\"Upload Excel file\", type=[\"xlsx\"])\n",
    "    if file is not None:\n",
    "        try:\n",
    "            df = pd.read_excel(file)\n",
    "            st.success(\"File uploaded successfully.\")\n",
    "            \n",
    "            # Perform data analysis\n",
    "            dfrandomised = df.sample(frac=1)\n",
    "            dfrandomgendersort = dfrandomised.sort_values(by='Gender').reset_index(drop=True)\n",
    "            dfrandom = dfrandomgendersort\n",
    "            gendergroups = dfrandom.groupby([\"PROGRAMME OF STUDY\", \"Gender\"]).groups\n",
    "            gender_keys_list = list(gendergroups)\n",
    "            total_female_students = dfrandom['Gender'].value_counts().f\n",
    "            total_male_students = dfrandom['Gender'].value_counts().m\n",
    "            total_students = len(dfrandom.index)\n",
    "            total_programmes = len(dfrandom.groupby(\"PROGRAMME OF STUDY\").groups)\n",
    "            total_gender_programmes = len(gendergroups)\n",
    "            \n",
    "            # Display the analysis results\n",
    "            st.subheader(\"Data Analysis Results\")\n",
    "            st.write(\"Total number of students: \", total_students)\n",
    "            st.write(\"Total number of programmes: \", total_programmes)\n",
    "            st.write(\"Total gender and programme groups: \", total_gender_programmes)\n",
    "            st.write(\"Total female students: \", total_female_students)\n",
    "            st.write(\"Total male students: \", total_male_students)\n",
    "            \n",
    "            # Get desired group size from the user\n",
    "            desired_group_size = st.number_input(\"Enter desired group size\", value=1, step=1)\n",
    "            number_of_teams = total_students / float(desired_group_size)\n",
    "            remainder_people = total_students % int(desired_group_size)\n",
    "            st.write(\"Number of teams to be generated: \", int(number_of_teams))\n",
    "            st.write(\"Remainder people to be paired: \", round(remainder_people))\n",
    "            \n",
    "            # Generate teams\n",
    "            length_of_array = total_students - (total_students % int(desired_group_size))\n",
    "            forced_array = np.arange(0, length_of_array, 1)\n",
    "            reshape_array = forced_array.reshape(int(desired_group_size), int(number_of_teams))\n",
    "            \n",
    "            # Display teams\n",
    "            st.subheader(\"Generated Teams\")\n",
    "            for i, team in enumerate(reshape_array[0]):\n",
    "                st.write(\"Team \", i + 1, \":\", reshape_array[:, i])\n",
    "            \n",
    "            # Add remainders as wildcards\n",
    "            if remainder_people > 0:\n",
    "                start = len(forced_array)\n",
    "                stop = len(forced_array) + remainder_people\n",
    "                step = 1\n",
    "                wildcards = np.arange(start, stop, step)\n",
    "            else:\n",
    "                wildcards = np.array([])\n",
    "            \n",
    "            newindex = []\n",
    "            for i, team in enumerate(reshape_array[0]):\n",
    "                newindex.extend(reshape_array[:, i])\n",
    "            newindex.extend(wildcards)\n",
    "            \n",
    "            # Output to Excel file\n",
    "            file_name = st.text_input(\"Enter the name of the Excel file:\")\n",
    "            if st.button(\"Save as Excel\"):\n",
    "                if len(file_name) > 0:\n",
    "                    df2 = dfrandom\n",
    "                    df3 = df2.reindex(newindex)\n",
    "                    save_dataframe_to_excel(df3, file_name)\n",
    "                else:\n",
    "                    st.warning(\"Please enter a file name.\")\n",
    "        \n",
    "        except Exception as e:\n",
    "            st.error(\"An error occurred while loading the file: \" + str(e))\n",
    "    \n",
    "    else:\n",
    "        st.warning(\"No file selected.\")\n",
    "\n",
    "if __name__ == '__main__':\n",
    "    main()\n"
   ]
  },
  {
   "cell_type": "code",
   "execution_count": null,
   "metadata": {},
   "outputs": [],
   "source": []
  }
 ],
 "metadata": {
  "kernelspec": {
   "display_name": "Python 3",
   "language": "python",
   "name": "python3"
  },
  "language_info": {
   "codemirror_mode": {
    "name": "ipython",
    "version": 3
   },
   "file_extension": ".py",
   "mimetype": "text/x-python",
   "name": "python",
   "nbconvert_exporter": "python",
   "pygments_lexer": "ipython3",
   "version": "3.8.3"
  }
 },
 "nbformat": 4,
 "nbformat_minor": 4
}
